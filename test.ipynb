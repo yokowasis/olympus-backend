{
 "cells": [
  {
   "cell_type": "code",
   "execution_count": 9,
   "metadata": {},
   "outputs": [
    {
     "data": {
      "text/html": [
       "<style>.itables table td {\n",
       "    text-overflow: ellipsis;\n",
       "    overflow: hidden;\n",
       "}\n",
       "\n",
       ".itables table th {\n",
       "    text-overflow: ellipsis;\n",
       "    overflow: hidden;\n",
       "}\n",
       "\n",
       ".itables thead input {\n",
       "    width: 100%;\n",
       "    padding: 3px;\n",
       "    box-sizing: border-box;\n",
       "}\n",
       "\n",
       ".itables tfoot input {\n",
       "    width: 100%;\n",
       "    padding: 3px;\n",
       "    box-sizing: border-box;\n",
       "}\n",
       "</style>\n",
       "<div class=\"itables\">\n",
       "<table id=\"fdf031bf-f1aa-4cb6-a13c-a72c20ecb0e9\" class=\"display nowrap\"style=\"table-layout:auto;width:auto;margin:auto;caption-side:bottom\"><thead>\n",
       "    <tr style=\"text-align: right;\">\n",
       "      \n",
       "      <th>sentence</th>\n",
       "      <th>translation</th>\n",
       "      <th>sdgs</th>\n",
       "    </tr>\n",
       "  </thead><tbody><tr><td>Loading... (need <a href=https://mwouts.github.io/itables/troubleshooting.html>help</a>?)</td></tr></tbody></table>\n",
       "<script>\n",
       "    // We use a namespace per table (= the next curly bracket)\n",
       "    // to avoid conflicts between the various tables' data & dt_args\n",
       "    {\n",
       "        // Define the table data\n",
       "        const data = [[\"La Autoridad Portuaria de Cartagena y el Gobierno regional murciano han solicitado 1,3 millones de euros de fondos europeos para realizar todos los estudios y proyectos necesarios que permitir\\u00e1n desarrollar la Zona de Actividades Log\\u00edsticas (ZAL) de Cartagena, seg\\u00fan dieron a conocer en la reuni\\u00f3n mantenida hoy en la C\\u00e1mara de Comercio de Cartagena.\", \"The Port Authority of Cartagena and the regional government of Murcia have requested 1.3 million euros in European funds to carry out all the necessary studies and projects that will allow the development of the Logistics Activities Zone (ZAL) of Cartagena, as announced in the meeting held today at the Chamber of Commerce of Cartagena.\", \"9 (Industry, Innovation, and Infrastructure),8 (Decent Work and Economic Growth)\"], [\"El director general indic\\u00f3 que \\u201cla Regi\\u00f3n ha solicitado 1,3 millones de euros para la ZAL de Cartagena, tal y como se acord\\u00f3 el pasado 13 de enero en la reuni\\u00f3n de la Mesa de Trabajo de la ZAL de Cartagena\\u201d y que \\u201cla Uni\\u00f3n Europea aportar\\u00eda el 50 por ciento de los fondos necesarios para el proyecto y el resto se sufragar\\u00e1 entre la Consejer\\u00eda de Fomento e Infraestructuras, el Instituto de Fomento y la Autoridad Portuaria de Cartagena\\u201d.\", \"The general director indicated that \\\"the Region has requested 1.3 million euros for the ZAL of Cartagena, as agreed on January 13th in the meeting of the Working Group of the ZAL of Cartagena\\\" and that \\\"the European Union would contribute 50 percent of the funds needed for the project, and the rest will be covered by the Ministry of Development and Infrastructure, the Institute of Development, and the Port Authority of Cartagena.\\\"\", \"9 (Industry, Innovation, and Infrastructure),17 (Partnerships for the Goals)\"], [\"As\\u00ed lo trasladaron al presidente de la C\\u00e1mara de Comercio de Cartagena, Miguel Mart\\u00ednez; y al presidente la Confederaci\\u00f3n Comarcal de Organizaciones Empresariales de Cartagena (Coec), Pedro Pablo Hern\\u00e1ndez.\", \"This was communicated to the President of the Chamber of Commerce of Cartagena, Miguel Mart\\u00ednez; and to the President of the Comarcal Confederation of Business Organizations of Cartagena (Coec), Pedro Pablo Hern\\u00e1ndez.\", \"17 (Partnerships for the Goals)\"], [\"Antonio Sevilla indic\\u00f3 \\u201ceste proyecto supone la elaboraci\\u00f3n de un Plan b\\u00e1sico que contempla la eliminaci\\u00f3n de los accesos ferroviarios a la d\\u00e1rsena de Cartagena, el traslado del dep\\u00f3sito franco a Los Camachos y la planificaci\\u00f3n de infraestructuras b\\u00e1sicas que son necesarias\\u201d.\", \"Antonio Sevilla stated, \\\"this project involves the development of a basic plan that includes the elimination of railway access to the Cartagena dock, the transfer of the duty-free area to Los Camachos, and the planning of basic infrastructure that is necessary.\\\"\", \"9 (Industry, Innovation, and Infrastructure)\"], [\"La solicitud de ayudas fue presentada por el Ministerio de Fomento dentro de la convocatoria del mecanismo \\u2018Conecta Europa\\u2019 (Connecting Europe Facility (CEF) de la Uni\\u00f3n Europea, que contempla la financiaci\\u00f3n de 47 proyectos de transporte para toda Espa\\u00f1a, que supondr\\u00e1n una inversi\\u00f3n de m\\u00e1s de 500 millones de euros.\", \"The request for assistance was submitted by the Ministry of Development within the call of the 'Connecting Europe' mechanism (Connecting Europe Facility (CEF) of the European Union, which includes the funding of 47 transport projects for all of Spain, representing an investment of more than 500 million euros.\", \"9 (Industry, Innovation, and Infrastructure)\"]];\n",
       "        // Display the table\n",
       "        $(document).ready(function () {\n",
       "            window.dataTablePromise.then(() => {\n",
       "                // Define the dt_args\n",
       "                let dt_args = {\"order\": [], \"dom\": \"t\"};\n",
       "                dt_args[\"data\"] = data;\n",
       "\n",
       "                \n",
       "                $('#fdf031bf-f1aa-4cb6-a13c-a72c20ecb0e9').DataTable(dt_args);\n",
       "            });\n",
       "        })\n",
       "    }\n",
       "</script>\n",
       "</div>\n"
      ],
      "text/plain": [
       "                                            sentence  \\\n",
       "0  La Autoridad Portuaria de Cartagena y el Gobie...   \n",
       "1  El director general indicó que “la Región ha s...   \n",
       "2  Así lo trasladaron al presidente de la Cámara ...   \n",
       "3  Antonio Sevilla indicó “este proyecto supone l...   \n",
       "4  La solicitud de ayudas fue presentada por el M...   \n",
       "\n",
       "                                         translation  \\\n",
       "0  The Port Authority of Cartagena and the region...   \n",
       "1  The general director indicated that \"the Regio...   \n",
       "2  This was communicated to the President of the ...   \n",
       "3  Antonio Sevilla stated, \"this project involves...   \n",
       "4  The request for assistance was submitted by th...   \n",
       "\n",
       "                                                sdgs  \n",
       "0  9 (Industry, Innovation, and Infrastructure),8...  \n",
       "1  9 (Industry, Innovation, and Infrastructure),1...  \n",
       "2                    17 (Partnerships for the Goals)  \n",
       "3       9 (Industry, Innovation, and Infrastructure)  \n",
       "4       9 (Industry, Innovation, and Infrastructure)  "
      ]
     },
     "execution_count": 9,
     "metadata": {},
     "output_type": "execute_result"
    }
   ],
   "source": [
    "import pandas as pd\n",
    "\n",
    "# import csv\n",
    "df = pd.read_csv('./classification/article2.csv', delimiter=\"\\t\")\n",
    "\n",
    "# print the first 5 rows\n",
    "df.head()"
   ]
  }
 ],
 "metadata": {
  "kernelspec": {
   "display_name": "sgds",
   "language": "python",
   "name": "python3"
  },
  "language_info": {
   "codemirror_mode": {
    "name": "ipython",
    "version": 3
   },
   "file_extension": ".py",
   "mimetype": "text/x-python",
   "name": "python",
   "nbconvert_exporter": "python",
   "pygments_lexer": "ipython3",
   "version": "3.10.13"
  }
 },
 "nbformat": 4,
 "nbformat_minor": 2
}
